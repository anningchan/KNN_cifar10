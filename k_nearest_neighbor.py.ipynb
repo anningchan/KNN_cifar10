{
 "cells": [
  {
   "cell_type": "code",
   "execution_count": null,
   "metadata": {
    "collapsed": true
   },
   "outputs": [],
   "source": [
    "import numpy as np\n",
    "\n",
    "class KNearestNeighbor(object):\n",
    "  \"\"\" a kNN classifier with L1 distance \"\"\"\n",
    "    \n",
    "    def __init__(self):\n",
    "        pass\n",
    "\n",
    "    def train(self, X, y):\n",
    "        \"\"\" X is N x D where each row is an example. Y is 1-dimension of size N \"\"\"\n",
    "        # the nearest neighbor classifier simply remembers all the training data\n",
    "        self.Xtr = X\n",
    "        self.ytr = y\n",
    "        \n",
    "    def predict(self, X):\n",
    "        \n",
    "        \"\"\" X is N x D where each row is an example we wish to predict label for \"\"\"\n",
    "        num_test = X.shape[0]\n",
    "        # lets make sure that the output type matches the input type\n",
    "        Ypred = np.zeros(num_test, dtype = self.ytr.dtype)\n",
    "        distances =[]\n",
    "        # loop over all test samples\n",
    "        for i in range(num_test):\n",
    "          # find the nearest training image to the i'th test image\n",
    "          # using the L1 distance (sum of absolute value differences)\n",
    "            \n",
    "            distances = np.sum(np.abs(self.Xtr - X[i,:]), axis = 1)\n",
    "           #distances = np.sqrt(np.sum((self.Xtr - X[i,:])^2))\n",
    "        \n",
    "            min_index = np.argmin(distances) # get the index with smallest distance\n",
    "\n",
    "            Ypred[i] = self.ytr[min_index] # predict the label of the nearest example\n",
    "            \n",
    "            if i%100 ==0: print \"Validating_Test%d\" %i\n",
    "\n",
    "        return Ypred\n"
   ]
  }
 ],
 "metadata": {
  "kernelspec": {
   "display_name": "Python 2",
   "language": "python",
   "name": "python2"
  },
  "language_info": {
   "codemirror_mode": {
    "name": "ipython",
    "version": 2
   },
   "file_extension": ".py",
   "mimetype": "text/x-python",
   "name": "python",
   "nbconvert_exporter": "python",
   "pygments_lexer": "ipython2",
   "version": "2.7.13"
  }
 },
 "nbformat": 4,
 "nbformat_minor": 2
}
