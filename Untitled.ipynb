{
 "cells": [
  {
   "cell_type": "code",
   "execution_count": 17,
   "metadata": {},
   "outputs": [
    {
     "name": "stdout",
     "output_type": "stream",
     "text": [
      "['airplane' 'automobile' 'bird' 'cat' 'deer' 'dog' 'frog' 'horse' 'ship'\n",
      " 'truck']\n"
     ]
    }
   ],
   "source": [
    "\n",
    "# coding: utf-8\n",
    "\n",
    "# In[3]:\n",
    "\n",
    "import cPickle as pickle\n",
    "import numpy   as np\n",
    "import os\n",
    "from scipy.misc import imread\n",
    "\n",
    "\n",
    "def load_CIFAR_batch(filename):\n",
    "    \"\"\" load single batch of cifar\"\"\"\n",
    "    with open(filename, 'rb') as f:\n",
    "        datadict = pickle.load(f)\n",
    "        X = datadict['data']\n",
    "        Y = datadict['labels']\n",
    "        X = X.reshape(10000,3,32,32).transpose(0,2,3,1).astype('float')\n",
    "        Y = np.array(Y)\n",
    "        \n",
    "        return X,Y\n",
    "    \n",
    "def load_CIFAR10(ROOT):\n",
    "    \n",
    "    \"\"\"load names of classification\"\"\"\n",
    "    with open(os.path.join(ROOT, 'batches.meta'), 'rb') as f:\n",
    "        namesdict = pickle.load(f)\n",
    "        names =namesdict['label_names']\n",
    "        names = np.array(names)\n",
    "        \n",
    "    \"\"\"load all of cifar datas\"\"\"\n",
    "\n",
    "    xs =[]\n",
    "    ys =[]\n",
    "    for b in range(1,6):\n",
    "        f = os.path.join(ROOT,'data_batch_%d' % (b,))\n",
    "        X,Y = load_CIFAR_batch(f)\n",
    "        xs.append(X)\n",
    "        ys.append(Y)\n",
    "    Xtr = np.concatenate(xs)\n",
    "    Ytr = np.concatenate(ys)\n",
    "    del X,Y\n",
    "    Xte,Yte=load_CIFAR_batch(os.path.join(ROOT,'test_batch'))\n",
    "    \n",
    "    return Xtr,Ytr,Xte,Yte,names\n",
    "\n",
    "print names"
   ]
  }
 ],
 "metadata": {
  "kernelspec": {
   "display_name": "Python 2",
   "language": "python",
   "name": "python2"
  },
  "language_info": {
   "codemirror_mode": {
    "name": "ipython",
    "version": 2
   },
   "file_extension": ".py",
   "mimetype": "text/x-python",
   "name": "python",
   "nbconvert_exporter": "python",
   "pygments_lexer": "ipython2",
   "version": "2.7.13"
  }
 },
 "nbformat": 4,
 "nbformat_minor": 2
}
